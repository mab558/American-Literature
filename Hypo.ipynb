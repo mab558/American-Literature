{
 "cells": [
  {
   "cell_type": "markdown",
   "id": "1cb3c0c4",
   "metadata": {},
   "source": [
    "## Introduction and Hypothesis\n",
    "\n",
    "During the late 18th century and early 19th century, authors in the United States possessed the same literary heritage that writers in Great Britain did (Herschel Parker, in Norton Anothology of American Literature). Hence, American literature was influenced by European notions and parallel developments. After the war of 1812, there was an increasing desire to produce uniquely American literature and culture. However, American writers were not achieving the originality and uniqueness in their work to distinguish it from European literature. For example, Edward Fiorelli highlights the influence of the early works of John Neal in developing American style of literature: \"He criticised Irving and Cooper for relying on old British conventions of authorship to frame American phenomena.\" Howard Mumford Jones talks more about the influence of European ideas in 19th century America (Howard Mumford Jones, 1935).\n",
    "\n",
    "Nevertheless, Herschel Parker indicated that writers and readers in America started sensing elusive quality about its new American literature in the 1850s. The literature consists of topics including but not limited to \"trauma of rapid change\", \"repeated physical uprootings\", \"making a success of failure\", and \"power of human beings to destroy nature\". In the following analyses, we will test the following hypothesis by comparing and contrasting the text of American fiction before and after 1850: **American literature started to become unique and original after 1850 unlike the novels inspired by Europeans in previous years**. The objective of the study is to find if there is a significant difference between American fiction before and after 1850. The results can act as supporting evidence to Herschel Parker's claim about the change in American literature. \n",
    "\n",
    "## Corpus and Data\n",
    "The corpus used includes 1,540 volumes representing 40% of the American fiction from 1789 to 1875. The data is sufficient to analyze any deviation in literature in the works of authors before and after 1850. The metadata were collected manually by a team of undergraduate students at the University of Notre Dame. The following portion of code provides some relevant descriptive statistics of the corpus."
   ]
  },
  {
   "cell_type": "code",
   "execution_count": 234,
   "id": "27cc0381",
   "metadata": {},
   "outputs": [],
   "source": [
    "# Creating and reading directories\n",
    "import os\n",
    "import pandas as pd\n",
    "\n",
    "metadata_file = os.path.join('us_fiction', 'corpus_data.tsv')\n",
    "text_dir      = os.path.join('us_fiction', 'us_texts')\n",
    "\n",
    "metadata = pd.read_csv(\n",
    "    metadata_file, \n",
    "    sep='\\t',\n",
    "    low_memory=False\n",
    ").set_index('source_id')"
   ]
  },
  {
   "cell_type": "code",
   "execution_count": 235,
   "id": "3f4e6507",
   "metadata": {
    "scrolled": false
   },
   "outputs": [],
   "source": [
    "# Novels Before 1850\n",
    "novels_bf = metadata[metadata['pub_date'] <= 1850]\n",
    "# Novels After 1850\n",
    "novels_af = metadata[metadata['pub_date'] > 1850]"
   ]
  },
  {
   "cell_type": "code",
   "execution_count": 236,
   "id": "f5aa83f3",
   "metadata": {
    "scrolled": true
   },
   "outputs": [
    {
     "name": "stdout",
     "output_type": "stream",
     "text": [
      "Total word count: 36824020\n"
     ]
    },
    {
     "data": {
      "text/plain": [
       "count    4.900000e+02\n",
       "mean     7.515106e+04\n",
       "std      8.293069e+04\n",
       "min      6.633000e+03\n",
       "25%      4.933500e+04\n",
       "50%      6.833150e+04\n",
       "75%      8.406825e+04\n",
       "max      1.150556e+06\n",
       "Name: words, dtype: float64"
      ]
     },
     "execution_count": 236,
     "metadata": {},
     "output_type": "execute_result"
    }
   ],
   "source": [
    "# Descriptive stats of novels before 1850\n",
    "print(\"Total word count:\", novels_bf['words'].sum())\n",
    "novels_bf['words'].describe()"
   ]
  },
  {
   "cell_type": "markdown",
   "id": "aee045da",
   "metadata": {},
   "source": [
    "The corpus includes 490 novels in count published before 1850. The average word count of these novels is approximately 75,000. However, the maximum word count is 1,150,556 which can be a hindrance in the runtime of our methods if there are multiple novels of that length, especially when creating embedding matrices. The issue will be addressed in the preprocessing of the relevant section. "
   ]
  },
  {
   "cell_type": "code",
   "execution_count": 212,
   "id": "42a9d6b3",
   "metadata": {
    "scrolled": false
   },
   "outputs": [
    {
     "name": "stdout",
     "output_type": "stream",
     "text": [
      "Total word count: 79971988\n"
     ]
    },
    {
     "data": {
      "text/plain": [
       "count      1050.000000\n",
       "mean      76163.798095\n",
       "std       43933.157199\n",
       "min        1667.000000\n",
       "25%       48021.750000\n",
       "50%       71069.000000\n",
       "75%      102058.000000\n",
       "max      322963.000000\n",
       "Name: words, dtype: float64"
      ]
     },
     "execution_count": 212,
     "metadata": {},
     "output_type": "execute_result"
    }
   ],
   "source": [
    "# Descriptive stats of novels after 1850\n",
    "print(\"Total word count:\", novels_af['words'].sum())\n",
    "novels_af['words'].describe()"
   ]
  },
  {
   "cell_type": "markdown",
   "id": "c8c6e596",
   "metadata": {},
   "source": [
    "The corpus includes 1050 novels in count published after 1850. The average word count of these novels is approximately 76,163. "
   ]
  },
  {
   "cell_type": "markdown",
   "id": "52ae6453",
   "metadata": {},
   "source": [
    "#### Limitations\n",
    "\n",
    "The corpus is not completely ideal for the purpose of testing our hypothesis because all of the novels in the corpus are American. It would be interesting to compare American literature to English or German literature before and after 1850 to better analyze whether European literature's influence on American literature was decreasing over the years. Nevertheless, the corpus provided should be sufficient to check whether the change in American literature in the 19th century was significant. \n",
    "\n",
    "Moreover, the genre of the published novels such as crime, fantasy, romance, science, and etc. were not provided in the data. Even though it is not directly relevant to the hypothesis, it would be interesting to see if there were changes in the topics chosen by authors and which gernes were more reflective of truley American literature."
   ]
  },
  {
   "cell_type": "markdown",
   "id": "3405f22b",
   "metadata": {},
   "source": [
    "#### Selecting data\n",
    "\n",
    "For the purposes of this analysis and limited computing power, it is not ideal to use the whole corpus. Therefore, novels with word counts over 250,000 are excluded from the analysis. \n"
   ]
  },
  {
   "cell_type": "code",
   "execution_count": 237,
   "id": "6c789b00",
   "metadata": {},
   "outputs": [
    {
     "name": "stdout",
     "output_type": "stream",
     "text": [
      "Rows Being Removed\n"
     ]
    },
    {
     "data": {
      "text/html": [
       "<div>\n",
       "<style scoped>\n",
       "    .dataframe tbody tr th:only-of-type {\n",
       "        vertical-align: middle;\n",
       "    }\n",
       "\n",
       "    .dataframe tbody tr th {\n",
       "        vertical-align: top;\n",
       "    }\n",
       "\n",
       "    .dataframe thead th {\n",
       "        text-align: right;\n",
       "    }\n",
       "</style>\n",
       "<table border=\"1\" class=\"dataframe\">\n",
       "  <thead>\n",
       "    <tr style=\"text-align: right;\">\n",
       "      <th></th>\n",
       "      <th>author</th>\n",
       "      <th>title</th>\n",
       "      <th>pub_place</th>\n",
       "      <th>publisher</th>\n",
       "      <th>pub_date</th>\n",
       "      <th>gender</th>\n",
       "      <th>gender_guess</th>\n",
       "      <th>ethnicity</th>\n",
       "      <th>occupation</th>\n",
       "      <th>occupation_free</th>\n",
       "      <th>state_born</th>\n",
       "      <th>state_main</th>\n",
       "      <th>state_died</th>\n",
       "      <th>born</th>\n",
       "      <th>died</th>\n",
       "      <th>words</th>\n",
       "    </tr>\n",
       "    <tr>\n",
       "      <th>source_id</th>\n",
       "      <th></th>\n",
       "      <th></th>\n",
       "      <th></th>\n",
       "      <th></th>\n",
       "      <th></th>\n",
       "      <th></th>\n",
       "      <th></th>\n",
       "      <th></th>\n",
       "      <th></th>\n",
       "      <th></th>\n",
       "      <th></th>\n",
       "      <th></th>\n",
       "      <th></th>\n",
       "      <th></th>\n",
       "      <th></th>\n",
       "      <th></th>\n",
       "    </tr>\n",
       "  </thead>\n",
       "  <tbody>\n",
       "    <tr>\n",
       "      <th>eaf265</th>\n",
       "      <td>Mathews, Cornelius</td>\n",
       "      <td>The various writings of Cornelius Mathews [......</td>\n",
       "      <td>New York</td>\n",
       "      <td>Harper &amp; Brothers</td>\n",
       "      <td>1843</td>\n",
       "      <td>M</td>\n",
       "      <td>0.0</td>\n",
       "      <td>White</td>\n",
       "      <td>Law</td>\n",
       "      <td>Lawyer</td>\n",
       "      <td>NY</td>\n",
       "      <td>NY</td>\n",
       "      <td>NY</td>\n",
       "      <td>1817.0</td>\n",
       "      <td>1889.0</td>\n",
       "      <td>321780</td>\n",
       "    </tr>\n",
       "    <tr>\n",
       "      <th>eaf417</th>\n",
       "      <td>Willis, Nathaniel Parker</td>\n",
       "      <td>Dashes at life with a free pencil</td>\n",
       "      <td>New York</td>\n",
       "      <td>J.S. Redfield</td>\n",
       "      <td>1845</td>\n",
       "      <td>M</td>\n",
       "      <td>0.0</td>\n",
       "      <td>White</td>\n",
       "      <td>Editor-Critic-Journalist</td>\n",
       "      <td>Editor</td>\n",
       "      <td>ME</td>\n",
       "      <td>NY</td>\n",
       "      <td>NY</td>\n",
       "      <td>1806.0</td>\n",
       "      <td>1867.0</td>\n",
       "      <td>730192</td>\n",
       "    </tr>\n",
       "    <tr>\n",
       "      <th>eaf418</th>\n",
       "      <td>Willis, Nathaniel Parker</td>\n",
       "      <td>The complete works of N.P. Willis</td>\n",
       "      <td>New York</td>\n",
       "      <td>J.S. Redfield</td>\n",
       "      <td>1846</td>\n",
       "      <td>M</td>\n",
       "      <td>0.0</td>\n",
       "      <td>White</td>\n",
       "      <td>Editor-Critic-Journalist</td>\n",
       "      <td>Editor</td>\n",
       "      <td>ME</td>\n",
       "      <td>NY</td>\n",
       "      <td>NY</td>\n",
       "      <td>1806.0</td>\n",
       "      <td>1867.0</td>\n",
       "      <td>1150556</td>\n",
       "    </tr>\n",
       "    <tr>\n",
       "      <th>eaf419</th>\n",
       "      <td>Willis, Nathaniel Parker</td>\n",
       "      <td>The miscellaneous works of N.P. Willis</td>\n",
       "      <td>New York</td>\n",
       "      <td>J.S. Redfield</td>\n",
       "      <td>1847</td>\n",
       "      <td>M</td>\n",
       "      <td>0.0</td>\n",
       "      <td>White</td>\n",
       "      <td>Editor-Critic-Journalist</td>\n",
       "      <td>Editor</td>\n",
       "      <td>ME</td>\n",
       "      <td>NY</td>\n",
       "      <td>NY</td>\n",
       "      <td>1806.0</td>\n",
       "      <td>1867.0</td>\n",
       "      <td>600916</td>\n",
       "    </tr>\n",
       "    <tr>\n",
       "      <th>eaf420</th>\n",
       "      <td>Willis, Nathaniel Parker</td>\n",
       "      <td>The prose works of N.P. Willis</td>\n",
       "      <td>Philadelphia</td>\n",
       "      <td>Carey &amp; Hart</td>\n",
       "      <td>1849</td>\n",
       "      <td>M</td>\n",
       "      <td>0.0</td>\n",
       "      <td>White</td>\n",
       "      <td>Editor-Critic-Journalist</td>\n",
       "      <td>Editor</td>\n",
       "      <td>ME</td>\n",
       "      <td>NY</td>\n",
       "      <td>NY</td>\n",
       "      <td>1806.0</td>\n",
       "      <td>1867.0</td>\n",
       "      <td>1045756</td>\n",
       "    </tr>\n",
       "    <tr>\n",
       "      <th>Wright2-0408</th>\n",
       "      <td>Buckingham, Henry A.</td>\n",
       "      <td>Harry Burnham, the young Continental, or, Memo...</td>\n",
       "      <td>New York</td>\n",
       "      <td>Burgess &amp; Garrett</td>\n",
       "      <td>1851</td>\n",
       "      <td>M</td>\n",
       "      <td>1.0</td>\n",
       "      <td>NaN</td>\n",
       "      <td>NaN</td>\n",
       "      <td>NaN</td>\n",
       "      <td>NaN</td>\n",
       "      <td>NaN</td>\n",
       "      <td>NaN</td>\n",
       "      <td>NaN</td>\n",
       "      <td>NaN</td>\n",
       "      <td>258794</td>\n",
       "    </tr>\n",
       "    <tr>\n",
       "      <th>Wright2-1740</th>\n",
       "      <td>Moos, H. M.</td>\n",
       "      <td>Hannah, or, A glimpse of Paradise</td>\n",
       "      <td>Cincinnati</td>\n",
       "      <td>Literary Eclectic Publishing House</td>\n",
       "      <td>1868</td>\n",
       "      <td>M</td>\n",
       "      <td>0.0</td>\n",
       "      <td>NaN</td>\n",
       "      <td>NaN</td>\n",
       "      <td>NaN</td>\n",
       "      <td>NaN</td>\n",
       "      <td>NaN</td>\n",
       "      <td>NaN</td>\n",
       "      <td>1836.0</td>\n",
       "      <td>1894.0</td>\n",
       "      <td>322963</td>\n",
       "    </tr>\n",
       "    <tr>\n",
       "      <th>Wright2-1785</th>\n",
       "      <td>Newell, R. H.</td>\n",
       "      <td>Avery Gliburn, or, Between two fires</td>\n",
       "      <td>New York</td>\n",
       "      <td>G.W. Carleton</td>\n",
       "      <td>1867</td>\n",
       "      <td>M</td>\n",
       "      <td>0.0</td>\n",
       "      <td>White</td>\n",
       "      <td>Editor-Critic-Journalist</td>\n",
       "      <td>Editor</td>\n",
       "      <td>NY</td>\n",
       "      <td>NY</td>\n",
       "      <td>NY</td>\n",
       "      <td>1836.0</td>\n",
       "      <td>1901.0</td>\n",
       "      <td>275565</td>\n",
       "    </tr>\n",
       "  </tbody>\n",
       "</table>\n",
       "</div>"
      ],
      "text/plain": [
       "                                author  \\\n",
       "source_id                                \n",
       "eaf265              Mathews, Cornelius   \n",
       "eaf417        Willis, Nathaniel Parker   \n",
       "eaf418        Willis, Nathaniel Parker   \n",
       "eaf419        Willis, Nathaniel Parker   \n",
       "eaf420        Willis, Nathaniel Parker   \n",
       "Wright2-0408      Buckingham, Henry A.   \n",
       "Wright2-1740               Moos, H. M.   \n",
       "Wright2-1785             Newell, R. H.   \n",
       "\n",
       "                                                          title     pub_place  \\\n",
       "source_id                                                                       \n",
       "eaf265        The various writings of Cornelius Mathews [......      New York   \n",
       "eaf417                        Dashes at life with a free pencil      New York   \n",
       "eaf418                        The complete works of N.P. Willis      New York   \n",
       "eaf419                   The miscellaneous works of N.P. Willis      New York   \n",
       "eaf420                           The prose works of N.P. Willis  Philadelphia   \n",
       "Wright2-0408  Harry Burnham, the young Continental, or, Memo...      New York   \n",
       "Wright2-1740                  Hannah, or, A glimpse of Paradise    Cincinnati   \n",
       "Wright2-1785               Avery Gliburn, or, Between two fires      New York   \n",
       "\n",
       "                                       publisher  pub_date gender  \\\n",
       "source_id                                                           \n",
       "eaf265                         Harper & Brothers      1843      M   \n",
       "eaf417                             J.S. Redfield      1845      M   \n",
       "eaf418                             J.S. Redfield      1846      M   \n",
       "eaf419                             J.S. Redfield      1847      M   \n",
       "eaf420                              Carey & Hart      1849      M   \n",
       "Wright2-0408                   Burgess & Garrett      1851      M   \n",
       "Wright2-1740  Literary Eclectic Publishing House      1868      M   \n",
       "Wright2-1785                       G.W. Carleton      1867      M   \n",
       "\n",
       "              gender_guess ethnicity                occupation  \\\n",
       "source_id                                                        \n",
       "eaf265                 0.0     White                       Law   \n",
       "eaf417                 0.0     White  Editor-Critic-Journalist   \n",
       "eaf418                 0.0     White  Editor-Critic-Journalist   \n",
       "eaf419                 0.0     White  Editor-Critic-Journalist   \n",
       "eaf420                 0.0     White  Editor-Critic-Journalist   \n",
       "Wright2-0408           1.0       NaN                       NaN   \n",
       "Wright2-1740           0.0       NaN                       NaN   \n",
       "Wright2-1785           0.0     White  Editor-Critic-Journalist   \n",
       "\n",
       "             occupation_free state_born state_main state_died    born    died  \\\n",
       "source_id                                                                       \n",
       "eaf265                Lawyer         NY         NY         NY  1817.0  1889.0   \n",
       "eaf417                Editor         ME         NY         NY  1806.0  1867.0   \n",
       "eaf418                Editor         ME         NY         NY  1806.0  1867.0   \n",
       "eaf419                Editor         ME         NY         NY  1806.0  1867.0   \n",
       "eaf420                Editor         ME         NY         NY  1806.0  1867.0   \n",
       "Wright2-0408             NaN        NaN        NaN        NaN     NaN     NaN   \n",
       "Wright2-1740             NaN        NaN        NaN        NaN  1836.0  1894.0   \n",
       "Wright2-1785          Editor         NY         NY         NY  1836.0  1901.0   \n",
       "\n",
       "                words  \n",
       "source_id              \n",
       "eaf265         321780  \n",
       "eaf417         730192  \n",
       "eaf418        1150556  \n",
       "eaf419         600916  \n",
       "eaf420        1045756  \n",
       "Wright2-0408   258794  \n",
       "Wright2-1740   322963  \n",
       "Wright2-1785   275565  "
      ]
     },
     "execution_count": 237,
     "metadata": {},
     "output_type": "execute_result"
    }
   ],
   "source": [
    "# Removing rows with word count higher than 250,000\n",
    "print(\"Rows Being Removed\")\n",
    "metadata[metadata['words'] > 250000]"
   ]
  },
  {
   "cell_type": "markdown",
   "id": "fcc7ecd9",
   "metadata": {},
   "source": [
    "The rows being removed include more of the novels before 1850s which were already lower in count than novels after 1850s. However, this should not make much of a difference to the overall representation of American fiction representation. The descriptive statistics shown below do not change significantly than the ones shown in the previous section."
   ]
  },
  {
   "cell_type": "code",
   "execution_count": 238,
   "id": "45030303",
   "metadata": {},
   "outputs": [],
   "source": [
    "# New Metadata\n",
    "metadata = metadata[metadata['words'] <= 250000]"
   ]
  },
  {
   "cell_type": "code",
   "execution_count": 239,
   "id": "b67074b7",
   "metadata": {},
   "outputs": [],
   "source": [
    "# Novels Before 1850\n",
    "novels_bf = metadata[metadata['pub_date'] <= 1850]\n",
    "# Novels After 1850\n",
    "novels_af = metadata[metadata['pub_date'] > 1850]"
   ]
  },
  {
   "cell_type": "code",
   "execution_count": 240,
   "id": "e36ef97e",
   "metadata": {
    "scrolled": false
   },
   "outputs": [
    {
     "name": "stdout",
     "output_type": "stream",
     "text": [
      "Total word count: 32974820\n"
     ]
    },
    {
     "data": {
      "text/plain": [
       "count       485.000000\n",
       "mean      67989.319588\n",
       "std       31271.879264\n",
       "min        6633.000000\n",
       "25%       48945.000000\n",
       "50%       68217.000000\n",
       "75%       83194.000000\n",
       "max      242199.000000\n",
       "Name: words, dtype: float64"
      ]
     },
     "execution_count": 240,
     "metadata": {},
     "output_type": "execute_result"
    }
   ],
   "source": [
    "# Descriptive stats of novels before 1850\n",
    "print(\"Total word count:\", novels_bf['words'].sum())\n",
    "novels_bf['words'].describe()"
   ]
  },
  {
   "cell_type": "code",
   "execution_count": 241,
   "id": "3e9f1daa",
   "metadata": {
    "scrolled": true
   },
   "outputs": [
    {
     "name": "stdout",
     "output_type": "stream",
     "text": [
      "Total word count: 79114666\n"
     ]
    },
    {
     "data": {
      "text/plain": [
       "count      1047.000000\n",
       "mean      75563.195798\n",
       "std       42510.780784\n",
       "min        1667.000000\n",
       "25%       47938.000000\n",
       "50%       70620.000000\n",
       "75%      101884.500000\n",
       "max      247258.000000\n",
       "Name: words, dtype: float64"
      ]
     },
     "execution_count": 241,
     "metadata": {},
     "output_type": "execute_result"
    }
   ],
   "source": [
    "# Descriptive stats of novels after 1850\n",
    "print(\"Total word count:\", novels_af['words'].sum())\n",
    "novels_af['words'].describe()"
   ]
  },
  {
   "cell_type": "markdown",
   "id": "396675f1",
   "metadata": {},
   "source": [
    "The mean word counts of the two sets of novels dropped because we removed entries with very high word counts. However, the stays around the same for both sets: before 1850 novels' median drops from 68,331 to 68,217 and after 1850 novels' median drops from 71,069 to 70,620. The count of novels before 1850 dropped from 490 to 485 (-5) and after 1850 dropped from 1050 to 1047 (-3). **Nevertheless, majority of the data is still retained and being used for analysis except for texts from 8 novels out of 1,540 novels.**"
   ]
  },
  {
   "cell_type": "markdown",
   "id": "604397d9",
   "metadata": {},
   "source": [
    "#### Reading and Preparing Data\n",
    "\n",
    "Files are read for the analysis of the whole corpus, novels before 1850, and novels after 1850 separately"
   ]
  },
  {
   "cell_type": "code",
   "execution_count": 242,
   "id": "443dc19c",
   "metadata": {},
   "outputs": [],
   "source": [
    "# Reading files for entire dataset\n",
    "files = [os.path.join(text_dir, novel) for novel in metadata.index.values]\n",
    "docs = []\n",
    "for file in files:\n",
    "    with open(file, 'r', encoding='utf8') as f:\n",
    "        text = f.read().split()\n",
    "        docs.append(text)"
   ]
  },
  {
   "cell_type": "code",
   "execution_count": 243,
   "id": "f9d4766d",
   "metadata": {},
   "outputs": [],
   "source": [
    "# Reading files for novels before 1850\n",
    "files_bf = [os.path.join(text_dir, novel) for novel in novels_bf.index.values]\n",
    "docs_bf = []\n",
    "for file in files_bf:\n",
    "    with open(file, 'r', encoding='utf8') as f:\n",
    "        text = f.read().split()\n",
    "        docs_bf.append(text)"
   ]
  },
  {
   "cell_type": "code",
   "execution_count": 244,
   "id": "79a6da91",
   "metadata": {},
   "outputs": [],
   "source": [
    "# Reading files for novels after 1850\n",
    "files_af = [os.path.join(text_dir, novel) for novel in novels_af.index.values]\n",
    "docs_af = []\n",
    "for file in files_af:\n",
    "    with open(file, 'r', encoding='utf8') as f:\n",
    "        text = f.read().split()\n",
    "        docs_bf.append(text)"
   ]
  },
  {
   "cell_type": "markdown",
   "id": "6cf0c011",
   "metadata": {},
   "source": [
    "## Methods and Discussion"
   ]
  },
  {
   "cell_type": "markdown",
   "id": "e1ce06f0",
   "metadata": {},
   "source": [
    "#### Imports"
   ]
  },
  {
   "cell_type": "code",
   "execution_count": 175,
   "id": "58d5ae0e",
   "metadata": {},
   "outputs": [],
   "source": [
    "# Imports\n",
    "%matplotlib inline\n",
    "import numpy as np\n",
    "from sklearn.feature_extraction.text import CountVectorizer, TfidfVectorizer\n",
    "from sklearn.metrics.pairwise import euclidean_distances, cosine_distances, cosine_similarity\n",
    "from sklearn.cluster import KMeans, SpectralClustering, DBSCAN, OPTICS, AgglomerativeClustering\n",
    "import matplotlib.pyplot as plt\n",
    "import seaborn as sns\n",
    "from sklearn.decomposition import TruncatedSVD\n",
    "import spacy\n",
    "from sklearn.preprocessing import StandardScaler\n",
    "from sklearn.feature_selection import SelectKBest, mutual_info_classif, f_classif\n",
    "from sklearn.model_selection import cross_val_score\n",
    "from sklearn.linear_model import LogisticRegression, LinearRegression\n",
    "from sklearn.model_selection import cross_validate\n",
    "from sklearn.neighbors import KNeighborsClassifier\n",
    "from sklearn.tree import DecisionTreeClassifier\n",
    "from sklearn.ensemble import RandomForestClassifier\n",
    "from sklearn.naive_bayes import BernoulliNB\n",
    "from sklearn.svm import SVC\n",
    "from sklearn.model_selection import GridSearchCV\n",
    "import warnings\n",
    "from   sklearn.model_selection import cross_val_score, train_test_split\n",
    "from   sklearn.neural_network import MLPClassifier"
   ]
  },
  {
   "cell_type": "markdown",
   "id": "3a74c7f5",
   "metadata": {},
   "source": [
    "### Average Euclidean and Cosine Distances"
   ]
  },
  {
   "cell_type": "markdown",
   "id": "07733e06",
   "metadata": {},
   "source": [
    "We first begin by looking at the average euclidean and cosine distances between the two sets of corpus. Doing so will check if there is a difference in the average direction and average magnitude of the novels in vector space. "
   ]
  },
  {
   "cell_type": "code",
   "execution_count": 245,
   "id": "8481c820",
   "metadata": {},
   "outputs": [],
   "source": [
    "# Vectorize novels before 1850\n",
    "vectorizer_bf = TfidfVectorizer(\n",
    "    input='filename', \n",
    "    encoding='utf-8',\n",
    "    strip_accents='unicode',\n",
    "    lowercase=True,\n",
    "    stop_words='english',\n",
    "    min_df=2, \n",
    "    max_df=0.9,\n",
    "    binary=False, \n",
    "    norm='l2',\n",
    "    use_idf=False,\n",
    "    max_features=5000\n",
    ")\n",
    "matrix_bf = vectorizer_bf.fit_transform(files_bf)"
   ]
  },
  {
   "cell_type": "code",
   "execution_count": 246,
   "id": "d7296665",
   "metadata": {},
   "outputs": [],
   "source": [
    "# Vectorize novels after 1850\n",
    "vectorizer_af = TfidfVectorizer(\n",
    "    input='filename', \n",
    "    encoding='utf-8',\n",
    "    strip_accents='unicode',\n",
    "    lowercase=True,\n",
    "    stop_words='english',\n",
    "    min_df=2, \n",
    "    max_df=0.9,\n",
    "    binary=False, \n",
    "    norm='l2',\n",
    "    use_idf=False,\n",
    "    max_features=5000\n",
    ")\n",
    "matrix_af = vectorizer_bf.fit_transform(files_af)"
   ]
  },
  {
   "cell_type": "code",
   "execution_count": 247,
   "id": "2513f2ad",
   "metadata": {
    "scrolled": true
   },
   "outputs": [
    {
     "name": "stdout",
     "output_type": "stream",
     "text": [
      "Distances among novels before 1850\n",
      "\n",
      "Average Euclidean Distance: 1.2270537641813513\n",
      "\n",
      "Average Cosine Distance: 0.7583689198552589\n"
     ]
    }
   ],
   "source": [
    "# Distances among novels before 1850\n",
    "print(\"Distances among novels before 1850\")\n",
    "print()\n",
    "print(\"Average Euclidean Distance:\", np.mean(euclidean_distances(matrix_bf)))\n",
    "print()\n",
    "print(\"Average Cosine Distance:\", np.mean(cosine_distances(matrix_bf)))"
   ]
  },
  {
   "cell_type": "code",
   "execution_count": 248,
   "id": "be8ed5bc",
   "metadata": {
    "scrolled": true
   },
   "outputs": [
    {
     "name": "stdout",
     "output_type": "stream",
     "text": [
      "Distances among novels after 1850\n",
      "\n",
      "Average Euclidean Distance: 1.2493908895367902\n",
      "\n",
      "Average Cosine Distance: 0.784703248006464\n"
     ]
    }
   ],
   "source": [
    "# Distances among novels after 1850\n",
    "print(\"Distances among novels after 1850\")\n",
    "print()\n",
    "print(\"Average Euclidean Distance:\", np.mean(euclidean_distances(matrix_af)))\n",
    "print()\n",
    "print(\"Average Cosine Distance:\", np.mean(cosine_distances(matrix_af)))"
   ]
  },
  {
   "cell_type": "code",
   "execution_count": 249,
   "id": "69b141de",
   "metadata": {
    "scrolled": true
   },
   "outputs": [
    {
     "name": "stdout",
     "output_type": "stream",
     "text": [
      "Distances between novels before 1850 and after 1850\n",
      "\n",
      "Average Euclidean Distance: 1.320215357340634\n",
      "\n",
      "Average Cosine Distance: 0.8723299310173114\n"
     ]
    }
   ],
   "source": [
    "# Distances between novels before 1850 and after 1850\n",
    "print(\"Distances between novels before 1850 and after 1850\")\n",
    "print()\n",
    "print(\"Average Euclidean Distance:\", np.mean(euclidean_distances(matrix_bf, matrix_af)))\n",
    "print()\n",
    "print(\"Average Cosine Distance:\", np.mean(cosine_distances(matrix_bf, matrix_af)))"
   ]
  },
  {
   "cell_type": "markdown",
   "id": "5552e946",
   "metadata": {},
   "source": [
    "#### Results"
   ]
  },
  {
   "cell_type": "markdown",
   "id": "95928228",
   "metadata": {},
   "source": [
    "Even though quantitative distances of textual data is not a state-of-the-art method to draw conclusions, the results do indicate a difference between the two sets of corpuses. We can see that the two sets of novels have a higher cosine and euclidean distances between each other as compared to the distance among their group of novels. The average euclidean and cosine distance between novels before 1850 and after 1850 can be increased by tweaking the parameteres, using different vectorizing or tokenization methods. However, methods used later in the analysis are more representative of the hypothesis being tested which is where such optimization methods are used. Nevertheless, the findings are not comprehensive enough to test the hypothesis completely, but do suggest a disparity between the novels published before 1850 and after 1850. Therefore, we can proceed with further analysis with this indication in mind. "
   ]
  },
  {
   "cell_type": "markdown",
   "id": "ec719722",
   "metadata": {},
   "source": [
    "### Author Specific Example\n",
    "\n",
    "Herschel Parker gives a couple of examples of famous writers who showed significant indication of unique American literature during the 1850s. For example, Herschel Parker quoutes, \"In Melville's Moby-Dick was a sense of grandeur of the physical universe and man's role in it long suppressed in European consciousness.\" Melville was one of the examples that Herschel Parker gave when he recognized the change in American Literature in the 1850s. The following analysis focuses on whether if Melville's work changed as claimed by Herschel Parker."
   ]
  },
  {
   "cell_type": "code",
   "execution_count": 250,
   "id": "2b6bf32a",
   "metadata": {
    "scrolled": true
   },
   "outputs": [],
   "source": [
    "# Selecting novels published by Melville Herman\n",
    "novels_mh = metadata[metadata['author'] == 'Melville, Herman']\n",
    "novels_mh = novels_mh.sort_values('pub_date')"
   ]
  },
  {
   "cell_type": "code",
   "execution_count": 251,
   "id": "4e669b1a",
   "metadata": {},
   "outputs": [
    {
     "name": "stdout",
     "output_type": "stream",
     "text": [
      "Publication year ranges 1846 - 1857\n"
     ]
    }
   ],
   "source": [
    "# Range of publication years available in the dataset\n",
    "print(\"Publication year ranges\", novels_mh['pub_date'].min(), '-', novels_mh['pub_date'].max())"
   ]
  },
  {
   "cell_type": "code",
   "execution_count": 252,
   "id": "6cd59438",
   "metadata": {},
   "outputs": [],
   "source": [
    "# Create a vectorizer for Melville Herman's novels\n",
    "vectorizer_mh = TfidfVectorizer(\n",
    "    input='filename', \n",
    "    encoding='utf-8',\n",
    "    strip_accents='unicode',\n",
    "    lowercase=True,\n",
    "    stop_words='english',\n",
    "    min_df=2, \n",
    "    max_df=0.9,\n",
    "    binary=False, \n",
    "    norm='l2',\n",
    "    use_idf=False,\n",
    ")\n",
    "\n",
    "files_mh = [os.path.join(text_dir, novel) for novel in novels_mh.index.values]\n",
    "\n",
    "matrix_mh = vectorizer_bf.fit_transform(files_mh)"
   ]
  },
  {
   "cell_type": "code",
   "execution_count": 253,
   "id": "175cd4f4",
   "metadata": {},
   "outputs": [
    {
     "data": {
      "text/plain": [
       "array([[0.  , 0.95, 1.22, 1.36, 1.31, 1.31, 1.33, 1.39, 1.38, 1.29, 1.34],\n",
       "       [0.95, 0.  , 1.2 , 1.36, 1.16, 1.18, 1.29, 1.39, 1.35, 1.24, 1.32],\n",
       "       [1.22, 1.2 , 0.  , 0.92, 1.3 , 1.31, 1.24, 1.34, 1.38, 1.28, 1.34],\n",
       "       [1.36, 1.36, 0.92, 0.  , 1.38, 1.38, 1.35, 1.35, 1.4 , 1.36, 1.37],\n",
       "       [1.31, 1.16, 1.3 , 1.38, 0.  , 1.14, 1.3 , 1.38, 1.35, 1.24, 1.29],\n",
       "       [1.31, 1.18, 1.31, 1.38, 1.14, 0.  , 1.31, 1.39, 1.33, 1.25, 1.32],\n",
       "       [1.33, 1.29, 1.24, 1.35, 1.3 , 1.31, 0.  , 1.35, 1.38, 1.3 , 1.35],\n",
       "       [1.39, 1.39, 1.34, 1.35, 1.38, 1.39, 1.35, 0.  , 1.4 , 1.38, 1.36],\n",
       "       [1.38, 1.35, 1.38, 1.4 , 1.35, 1.33, 1.38, 1.4 , 0.  , 1.36, 1.36],\n",
       "       [1.29, 1.24, 1.28, 1.36, 1.24, 1.25, 1.3 , 1.38, 1.36, 0.  , 1.27],\n",
       "       [1.34, 1.32, 1.34, 1.37, 1.29, 1.32, 1.35, 1.36, 1.36, 1.27, 0.  ]])"
      ]
     },
     "execution_count": 253,
     "metadata": {},
     "output_type": "execute_result"
    }
   ],
   "source": [
    "# Calculate euclidean distances\n",
    "euc = euclidean_distances(matrix_mh)\n",
    "np.around(euc, decimals = 2)"
   ]
  },
  {
   "cell_type": "code",
   "execution_count": 254,
   "id": "7a7da98f",
   "metadata": {
    "scrolled": true
   },
   "outputs": [
    {
     "data": {
      "text/plain": [
       "array([[0.  , 0.45, 0.75, 0.92, 0.86, 0.86, 0.88, 0.96, 0.95, 0.83, 0.89],\n",
       "       [0.45, 0.  , 0.72, 0.93, 0.67, 0.7 , 0.83, 0.96, 0.91, 0.77, 0.87],\n",
       "       [0.75, 0.72, 0.  , 0.42, 0.84, 0.86, 0.77, 0.9 , 0.95, 0.82, 0.89],\n",
       "       [0.92, 0.93, 0.42, 0.  , 0.95, 0.95, 0.91, 0.91, 0.98, 0.93, 0.94],\n",
       "       [0.86, 0.67, 0.84, 0.95, 0.  , 0.65, 0.84, 0.95, 0.91, 0.77, 0.84],\n",
       "       [0.86, 0.7 , 0.86, 0.95, 0.65, 0.  , 0.86, 0.96, 0.89, 0.78, 0.87],\n",
       "       [0.88, 0.83, 0.77, 0.91, 0.84, 0.86, 0.  , 0.91, 0.95, 0.84, 0.91],\n",
       "       [0.96, 0.96, 0.9 , 0.91, 0.95, 0.96, 0.91, 0.  , 0.98, 0.95, 0.93],\n",
       "       [0.95, 0.91, 0.95, 0.98, 0.91, 0.89, 0.95, 0.98, 0.  , 0.92, 0.92],\n",
       "       [0.83, 0.77, 0.82, 0.93, 0.77, 0.78, 0.84, 0.95, 0.92, 0.  , 0.81],\n",
       "       [0.89, 0.87, 0.89, 0.94, 0.84, 0.87, 0.91, 0.93, 0.92, 0.81, 0.  ]])"
      ]
     },
     "execution_count": 254,
     "metadata": {},
     "output_type": "execute_result"
    }
   ],
   "source": [
    "# Calculate cosine distances\n",
    "cos = cosine_distances(matrix_mh)\n",
    "np.around(cos, decimals = 2)"
   ]
  },
  {
   "cell_type": "code",
   "execution_count": 255,
   "id": "a8b9feaa",
   "metadata": {},
   "outputs": [
    {
     "name": "stdout",
     "output_type": "stream",
     "text": [
      "Euclidean distances\n"
     ]
    },
    {
     "data": {
      "image/png": "[encoded data removed]",
      "text/plain": [
       "<Figure size 720x720 with 2 Axes>"
      ]
     },
     "metadata": {
      "needs_background": "light"
     },
     "output_type": "display_data"
    }
   ],
   "source": [
    "# Visualize euclidean distances\n",
    "print(\"Euclidean distances\")\n",
    "fig, ax = plt.subplots(figsize=(10,10))\n",
    "sns.heatmap(\n",
    "    euc,\n",
    "    xticklabels = novels_mh['pub_date'],\n",
    "    yticklabels = novels_mh['pub_date'],\n",
    "    annot= True,\n",
    "    square=True\n",
    ");"
   ]
  },
  {
   "cell_type": "code",
   "execution_count": 256,
   "id": "02a7c818",
   "metadata": {
    "scrolled": false
   },
   "outputs": [
    {
     "name": "stdout",
     "output_type": "stream",
     "text": [
      "Cosine distances\n"
     ]
    },
    {
     "data": {
      "image/png": "[encoded data removed]",
      "text/plain": [
       "<Figure size 720x720 with 2 Axes>"
      ]
     },
     "metadata": {
      "needs_background": "light"
     },
     "output_type": "display_data"
    }
   ],
   "source": [
    "# Visualize cosine distances \n",
    "print(\"Cosine distances\")\n",
    "fig, ax = plt.subplots(figsize=(10,10))\n",
    "sns.heatmap(\n",
    "    cos,\n",
    "    xticklabels = novels_mh['pub_date'],\n",
    "    yticklabels = novels_mh['pub_date'],\n",
    "    annot=True,\n",
    "    square=True\n",
    ");"
   ]
  },
  {
   "cell_type": "markdown",
   "id": "fb5e850d",
   "metadata": {},
   "source": [
    "#### Results\n",
    "\n",
    "The distances between the novels published by Melville Herman before and after 1850 are evident. This difference is seen more in the cosine distances where the cosine distances are as low as 0.45 among novels before 1850s. The distance between the novels before and after 1850 are not much highlighted in this analysis except for his publication in 1857 vs 1849 (cosine distance of 0.94). The publication in 1855 vs 1849 seemed the most far apart in vector space. This is one of the reasons why we do not place much importance on vector space distances as aforementioned in the previous results. "
   ]
  },
  {
   "cell_type": "markdown",
   "id": "e03a9e70",
   "metadata": {},
   "source": [
    "### Unsupervised Learning Methods "
   ]
  },
  {
   "cell_type": "markdown",
   "id": "2b9d9562",
   "metadata": {},
   "source": [
    "In this portion of the analysis, we will discuss why unsupervised machine learning methods are not appropriate for this analysis. Firstly, we have the labels for the publication dates to construct a supervised learning method (next part). Secondly, it would be difficult to evaluate the outcomes. For example, we construct hard clusters with 2 labels with the anticipation that the model will divide the data into clusters of before and after 1850. We cannot evaluate the labels without using the actual publication years of the novels which undermines the whole purpose of using an unsupervised model. It would have been easier to evaluate the results if we were aware of certain token features that are highly represented in unique American literature after the 1850s. But we do not have that information or at least are not that certain about such information. Therefore, it is better to proceed with supervised learning methods."
   ]
  },
  {
   "cell_type": "markdown",
   "id": "0ef6175b",
   "metadata": {},
   "source": [
    "### Supervised Learning Methods \n",
    "\n",
    "Using supervised learning methods, we aim to predict the publication date to check if the textual information in the novels is enough for different machine learning models and/or classification methods to predict years correctly. This would be an indication that the text of these novels can be used as features to identify which ones belonged in the era where American literature was inspired by Europeans and which ones belong in the era where American authors were incorporating uniqueness and originality in their writings. \n",
    "\n",
    "We first run a standard token-based and word embedding-based classification using Logistic Regression because the output we are looking for is binary. Thereafter, we will attempt to fine-tune through different parameters and classification methods to improve evaluation scores of our results. The reason for tuning the models is to achieve the best possible result for the corpus and open opportunities for future studies. We use grid search to find the optimum parameters for functions. \n",
    "\n",
    "Overall, the reason why we believe supervised learning methods are the best to test the hypothesis that American literature changed after 1850 is because we are not that aware of the features that represent this change but we have desired outcome labels which we can use to train classifiers. Doing so will help us test the hypothesis and evaluate using different scoring methods by cross validation. "
   ]
  },
  {
   "cell_type": "markdown",
   "id": "aac75998",
   "metadata": {},
   "source": [
    "#### Token-based Classifier"
   ]
  },
  {
   "cell_type": "markdown",
   "id": "2634a3b8",
   "metadata": {},
   "source": [
    "We start off by using a token-based classifier which we anticipate to be the most appropriate out of the other classification methods. The reason why we think so is because the length of the novels in the corpus is too large to run embedding-based classification and would require some modifications.\n",
    "\n",
    "Nevertheless, we create labels for our models based on whether the publication date for the novels is before or after 1850. Although such labeling will not identify what made American literature unique after 1850, it will identify if there was a significant enough change visible in the textual information of these novels.\n",
    "\n",
    "Please look out for explainations (markdowns) and comments (code cell) as we go through the code."
   ]
  },
  {
   "cell_type": "code",
   "execution_count": 188,
   "id": "e67ed42c",
   "metadata": {},
   "outputs": [
    {
     "name": "stdout",
     "output_type": "stream",
     "text": [
      "y_binary length: 1463\n",
      "Naïve baseline accuracy: 0.6739576213260424\n"
     ]
    }
   ],
   "source": [
    "# Create binary labels based publication year before or after 1850\n",
    "y_binary = [1 if date > 1850 else 0 for date in metadata['pub_date']]\n",
    "print(\"y_binary length:\", len(y_binary))\n",
    "\n",
    "print(\"Naïve baseline accuracy:\", np.sum(y_binary) / len(y_binary))"
   ]
  },
  {
   "cell_type": "code",
   "execution_count": 189,
   "id": "2948b258",
   "metadata": {
    "scrolled": true
   },
   "outputs": [
    {
     "name": "stdout",
     "output_type": "stream",
     "text": [
      "Baseline accuracy: 0.674\n",
      "Baseline F1: 0.805\n"
     ]
    }
   ],
   "source": [
    "# Calculate baseline evaluation scores as a benchmark\n",
    "baseline_accuracy = np.sum(y_binary)/len(y_binary)\n",
    "baseline_precision = baseline_accuracy\n",
    "baseline_recall = 1.0\n",
    "baseline_f1 = 2*baseline_precision*baseline_recall/(baseline_precision+baseline_recall)\n",
    "print(\"Baseline accuracy:\", round(baseline_accuracy, 3))\n",
    "print(\"Baseline F1:\", round(baseline_f1, 3))"
   ]
  },
  {
   "cell_type": "code",
   "execution_count": 190,
   "id": "298b186d",
   "metadata": {},
   "outputs": [
    {
     "data": {
      "text/plain": [
       "(1463, 14193)"
      ]
     },
     "execution_count": 190,
     "metadata": {},
     "output_type": "execute_result"
    }
   ],
   "source": [
    "# Vectorize the entire corpus \n",
    "vectorizer = TfidfVectorizer(\n",
    "    input='filename', \n",
    "    encoding='utf-8',\n",
    "    strip_accents='unicode',\n",
    "    lowercase=True,\n",
    "    stop_words='english',\n",
    "    min_df=0.1, \n",
    "    max_df=0.9,\n",
    "    binary=False, \n",
    "    norm='l2',\n",
    "    use_idf=False\n",
    ")\n",
    "\n",
    "matrix = vectorizer.fit_transform(files)\n",
    "matrix.shape"
   ]
  },
  {
   "cell_type": "code",
   "execution_count": 191,
   "id": "0dd180e8",
   "metadata": {},
   "outputs": [
    {
     "name": "stderr",
     "output_type": "stream",
     "text": [
      "C:\\Users\\Ahmad\\miniconda3\\envs\\3350\\lib\\site-packages\\sklearn\\utils\\validation.py:593: FutureWarning: np.matrix usage is deprecated in 1.0 and will raise a TypeError in 1.2. Please convert to a numpy array with np.asarray. For more information see: https://numpy.org/doc/stable/reference/generated/numpy.matrix.html\n",
      "  warnings.warn(\n",
      "C:\\Users\\Ahmad\\miniconda3\\envs\\3350\\lib\\site-packages\\sklearn\\utils\\validation.py:593: FutureWarning: np.matrix usage is deprecated in 1.0 and will raise a TypeError in 1.2. Please convert to a numpy array with np.asarray. For more information see: https://numpy.org/doc/stable/reference/generated/numpy.matrix.html\n",
      "  warnings.warn(\n"
     ]
    }
   ],
   "source": [
    "# Standardize the matrix\n",
    "matrix = StandardScaler().fit_transform(matrix.todense())"
   ]
  },
  {
   "cell_type": "code",
   "execution_count": 257,
   "id": "29f9031e",
   "metadata": {},
   "outputs": [],
   "source": [
    "# Select the most informative features \n",
    "method = mutual_info_classif\n",
    "selector = SelectKBest(method, k=300)\n",
    "matrix_best = selector.fit_transform(matrix, y_binary)"
   ]
  },
  {
   "cell_type": "code",
   "execution_count": 258,
   "id": "95f30a8a",
   "metadata": {
    "scrolled": true
   },
   "outputs": [
    {
     "name": "stdout",
     "output_type": "stream",
     "text": [
      "Cross-validated accuracy: 0.9049529400801418\n",
      "Cross-validated F-1: 0.9298854327096414\n"
     ]
    }
   ],
   "source": [
    "# Calculate accuracy and F-1 Score\n",
    "print(\"Cross-validated accuracy:\", np.mean(cross_val_score(LogisticRegression(), matrix_best, y_binary, scoring='accuracy', cv=10)))\n",
    "print(\"Cross-validated F-1:\", np.mean(cross_val_score(LogisticRegression(), matrix_best, y_binary, scoring='f1', cv=10)))"
   ]
  },
  {
   "cell_type": "code",
   "execution_count": 259,
   "id": "f1a469d8",
   "metadata": {},
   "outputs": [],
   "source": [
    "# Compares scores of classifiers (function referenced from Mini-project Part 2)\n",
    "def compare_scores(scores_dict):\n",
    "\n",
    "    df = pd.DataFrame(scores_dict).T.applymap(np.mean).style.background_gradient(cmap='RdYlGn')\n",
    "    return df"
   ]
  },
  {
   "cell_type": "code",
   "execution_count": 260,
   "id": "6e1bcc9a",
   "metadata": {},
   "outputs": [
    {
     "data": {
      "text/html": [
       "<style type=\"text/css\">\n",
       "#T_c8c70_row0_col0, #T_c8c70_row0_col2, #T_c8c70_row0_col3, #T_c8c70_row0_col5, #T_c8c70_row2_col1, #T_c8c70_row2_col4 {\n",
       "  background-color: #a50026;\n",
       "  color: #f1f1f1;\n",
       "}\n",
       "#T_c8c70_row0_col1, #T_c8c70_row1_col3, #T_c8c70_row3_col0, #T_c8c70_row3_col2, #T_c8c70_row3_col4, #T_c8c70_row3_col5 {\n",
       "  background-color: #006837;\n",
       "  color: #f1f1f1;\n",
       "}\n",
       "#T_c8c70_row0_col4 {\n",
       "  background-color: #6bbf64;\n",
       "  color: #000000;\n",
       "}\n",
       "#T_c8c70_row1_col0 {\n",
       "  background-color: #b50f26;\n",
       "  color: #f1f1f1;\n",
       "}\n",
       "#T_c8c70_row1_col1, #T_c8c70_row4_col1 {\n",
       "  background-color: #f47044;\n",
       "  color: #f1f1f1;\n",
       "}\n",
       "#T_c8c70_row1_col2 {\n",
       "  background-color: #7fc866;\n",
       "  color: #000000;\n",
       "}\n",
       "#T_c8c70_row1_col4 {\n",
       "  background-color: #f88950;\n",
       "  color: #f1f1f1;\n",
       "}\n",
       "#T_c8c70_row1_col5 {\n",
       "  background-color: #bde379;\n",
       "  color: #000000;\n",
       "}\n",
       "#T_c8c70_row2_col0 {\n",
       "  background-color: #fdc171;\n",
       "  color: #000000;\n",
       "}\n",
       "#T_c8c70_row2_col2 {\n",
       "  background-color: #fff3ac;\n",
       "  color: #000000;\n",
       "}\n",
       "#T_c8c70_row2_col3 {\n",
       "  background-color: #3faa59;\n",
       "  color: #f1f1f1;\n",
       "}\n",
       "#T_c8c70_row2_col5 {\n",
       "  background-color: #fdc776;\n",
       "  color: #000000;\n",
       "}\n",
       "#T_c8c70_row3_col1 {\n",
       "  background-color: #f8fcb6;\n",
       "  color: #000000;\n",
       "}\n",
       "#T_c8c70_row3_col3 {\n",
       "  background-color: #15904c;\n",
       "  color: #f1f1f1;\n",
       "}\n",
       "#T_c8c70_row4_col0 {\n",
       "  background-color: #ad0826;\n",
       "  color: #f1f1f1;\n",
       "}\n",
       "#T_c8c70_row4_col2 {\n",
       "  background-color: #8ccd67;\n",
       "  color: #000000;\n",
       "}\n",
       "#T_c8c70_row4_col3 {\n",
       "  background-color: #148e4b;\n",
       "  color: #f1f1f1;\n",
       "}\n",
       "#T_c8c70_row4_col4 {\n",
       "  background-color: #fee797;\n",
       "  color: #000000;\n",
       "}\n",
       "#T_c8c70_row4_col5 {\n",
       "  background-color: #b5df74;\n",
       "  color: #000000;\n",
       "}\n",
       "</style>\n",
       "<table id=\"T_c8c70_\">\n",
       "  <thead>\n",
       "    <tr>\n",
       "      <th class=\"blank level0\" >&nbsp;</th>\n",
       "      <th class=\"col_heading level0 col0\" >fit_time</th>\n",
       "      <th class=\"col_heading level0 col1\" >score_time</th>\n",
       "      <th class=\"col_heading level0 col2\" >test_accuracy</th>\n",
       "      <th class=\"col_heading level0 col3\" >test_precision</th>\n",
       "      <th class=\"col_heading level0 col4\" >test_recall</th>\n",
       "      <th class=\"col_heading level0 col5\" >test_f1</th>\n",
       "    </tr>\n",
       "  </thead>\n",
       "  <tbody>\n",
       "    <tr>\n",
       "      <th id=\"T_c8c70_level0_row0\" class=\"row_heading level0 row0\" >kNN</th>\n",
       "      <td id=\"T_c8c70_row0_col0\" class=\"data row0 col0\" >0.002463</td>\n",
       "      <td id=\"T_c8c70_row0_col1\" class=\"data row0 col1\" >0.008377</td>\n",
       "      <td id=\"T_c8c70_row0_col2\" class=\"data row0 col2\" >0.850862</td>\n",
       "      <td id=\"T_c8c70_row0_col3\" class=\"data row0 col3\" >0.842189</td>\n",
       "      <td id=\"T_c8c70_row0_col4\" class=\"data row0 col4\" >0.967584</td>\n",
       "      <td id=\"T_c8c70_row0_col5\" class=\"data row0 col5\" >0.898902</td>\n",
       "    </tr>\n",
       "    <tr>\n",
       "      <th id=\"T_c8c70_level0_row1\" class=\"row_heading level0 row1\" >Logit</th>\n",
       "      <td id=\"T_c8c70_row1_col0\" class=\"data row1 col0\" >0.017188</td>\n",
       "      <td id=\"T_c8c70_row1_col1\" class=\"data row1 col1\" >0.003125</td>\n",
       "      <td id=\"T_c8c70_row1_col2\" class=\"data row1 col2\" >0.904953</td>\n",
       "      <td id=\"T_c8c70_row1_col3\" class=\"data row1 col3\" >0.925430</td>\n",
       "      <td id=\"T_c8c70_row1_col4\" class=\"data row1 col4\" >0.936147</td>\n",
       "      <td id=\"T_c8c70_row1_col5\" class=\"data row1 col5\" >0.929885</td>\n",
       "    </tr>\n",
       "    <tr>\n",
       "      <th id=\"T_c8c70_level0_row2\" class=\"row_heading level0 row2\" >DTC</th>\n",
       "      <td id=\"T_c8c70_row2_col0\" class=\"data row2 col0\" >0.150776</td>\n",
       "      <td id=\"T_c8c70_row2_col1\" class=\"data row2 col1\" >0.001764</td>\n",
       "      <td id=\"T_c8c70_row2_col2\" class=\"data row2 col2\" >0.883734</td>\n",
       "      <td id=\"T_c8c70_row2_col3\" class=\"data row2 col3\" >0.912931</td>\n",
       "      <td id=\"T_c8c70_row2_col4\" class=\"data row2 col4\" >0.921965</td>\n",
       "      <td id=\"T_c8c70_row2_col5\" class=\"data row2 col5\" >0.915456</td>\n",
       "    </tr>\n",
       "    <tr>\n",
       "      <th id=\"T_c8c70_level0_row3\" class=\"row_heading level0 row3\" >RFC</th>\n",
       "      <td id=\"T_c8c70_row3_col0\" class=\"data row3 col0\" >0.442771</td>\n",
       "      <td id=\"T_c8c70_row3_col1\" class=\"data row3 col1\" >0.005174</td>\n",
       "      <td id=\"T_c8c70_row3_col2\" class=\"data row3 col2\" >0.921964</td>\n",
       "      <td id=\"T_c8c70_row3_col3\" class=\"data row3 col3\" >0.918515</td>\n",
       "      <td id=\"T_c8c70_row3_col4\" class=\"data row3 col4\" >0.979716</td>\n",
       "      <td id=\"T_c8c70_row3_col5\" class=\"data row3 col5\" >0.946222</td>\n",
       "    </tr>\n",
       "    <tr>\n",
       "      <th id=\"T_c8c70_level0_row4\" class=\"row_heading level0 row4\" >BNB</th>\n",
       "      <td id=\"T_c8c70_row4_col0\" class=\"data row4 col0\" >0.009375</td>\n",
       "      <td id=\"T_c8c70_row4_col1\" class=\"data row4 col1\" >0.003125</td>\n",
       "      <td id=\"T_c8c70_row4_col2\" class=\"data row4 col2\" >0.903550</td>\n",
       "      <td id=\"T_c8c70_row4_col3\" class=\"data row4 col3\" >0.918664</td>\n",
       "      <td id=\"T_c8c70_row4_col4\" class=\"data row4 col4\" >0.946341</td>\n",
       "      <td id=\"T_c8c70_row4_col5\" class=\"data row4 col5\" >0.930519</td>\n",
       "    </tr>\n",
       "  </tbody>\n",
       "</table>\n"
      ],
      "text/plain": [
       "<pandas.io.formats.style.Styler at 0x18705faf910>"
      ]
     },
     "execution_count": 260,
     "metadata": {},
     "output_type": "execute_result"
    }
   ],
   "source": [
    "# Compare results using different classifiers (no tuning)\n",
    "classifiers = {\n",
    "    'kNN': KNeighborsClassifier(),\n",
    "    'Logit':LogisticRegression(),\n",
    "    'DTC': DecisionTreeClassifier(),\n",
    "    'RFC':RandomForestClassifier(),\n",
    "    'BNB': BernoulliNB(),\n",
    "}\n",
    "\n",
    "scores = {} \n",
    "for classifier in classifiers:\n",
    "    scores[classifier] = cross_validate(\n",
    "        classifiers[classifier],\n",
    "        matrix_best, \n",
    "        y_binary, \n",
    "        cv=10, \n",
    "        scoring=['accuracy','precision', 'recall', 'f1']\n",
    "    )\n",
    "compare_scores(scores)"
   ]
  },
  {
   "cell_type": "markdown",
   "id": "23f352fb",
   "metadata": {},
   "source": [
    "These are the inital results without any tuning of parameters. Based on the results, the Logistic Regression, Random Forest, and Bernoulli Naive Bayes classifiers showed high F-1, precision, and recall scores. Therefore, we will proceed to tune these classifiers using grid search to get the best possible evaluative scores."
   ]
  },
  {
   "cell_type": "code",
   "execution_count": 261,
   "id": "6d8866c1",
   "metadata": {},
   "outputs": [
    {
     "name": "stdout",
     "output_type": "stream",
     "text": [
      "Best paramters for Logistic Regression: {'max_iter': 2000, 'penalty': 'l1', 'solver': 'liblinear', 'verbose': 0, 'warm_start': False}\n",
      "Best score for Logisitc Regression: 0.9437168445084525\n"
     ]
    }
   ],
   "source": [
    "# Tuning Logistic Regression\n",
    "params = {\n",
    "    'penalty': ['none', 'l1', 'l2','elasticnet'],\n",
    "    'solver':['newton-cg', 'lbfgs', 'liblinear', 'sag', 'saga'],\n",
    "    'max_iter':[2000],\n",
    "    'verbose': [0,1],\n",
    "    'warm_start': [False, True],\n",
    "}\n",
    "\n",
    "clf = GridSearchCV(LogisticRegression(), params, n_jobs=-1, scoring='f1')\n",
    "\n",
    "with warnings.catch_warnings() as w:\n",
    "    warnings.simplefilter(\"ignore\")\n",
    "    clf.fit(matrix_best, y_binary)\n",
    "\n",
    "print(\"Best paramters for Logistic Regression:\", clf.best_params_)\n",
    "print(\"Best score for Logisitc Regression:\", clf.best_score_)"
   ]
  },
  {
   "cell_type": "code",
   "execution_count": 262,
   "id": "1114e9cd",
   "metadata": {},
   "outputs": [
    {
     "name": "stdout",
     "output_type": "stream",
     "text": [
      "Best paramters for Random Forest Classifier: {'criterion': 'gini', 'max_depth': 100, 'n_estimators': 100, 'verbose': 0, 'warm_start': True}\n",
      "Best score for Random Forest Classifier: 0.9470558190432247\n"
     ]
    }
   ],
   "source": [
    "# Tuning Random Forest Classifier\n",
    "params = {\n",
    "    'n_estimators': [10, 100, 1000],\n",
    "    'criterion':['gini', 'entropy', 'log_loss'],\n",
    "    'max_depth':[10, 100, 300],\n",
    "    'verbose': [0,1],\n",
    "    'warm_start': [False, True],\n",
    "}\n",
    "\n",
    "clf = GridSearchCV(RandomForestClassifier(), params, n_jobs=-1, scoring='f1')\n",
    "\n",
    "with warnings.catch_warnings() as w:\n",
    "    warnings.simplefilter(\"ignore\")\n",
    "    clf.fit(matrix_best, y_binary)\n",
    "\n",
    "print(\"Best paramters for Random Forest Classifier:\", clf.best_params_)\n",
    "print(\"Best score for Random Forest Classifier:\", clf.best_score_)"
   ]
  },
  {
   "cell_type": "code",
   "execution_count": 263,
   "id": "c850e0b9",
   "metadata": {},
   "outputs": [
    {
     "name": "stdout",
     "output_type": "stream",
     "text": [
      "Best paramters for Bernoulli Naive Bayes: {'alpha': 0, 'binarize': 0.0, 'fit_prior': False}\n",
      "Best score for Bernoulli Naive Bayes: 0.9367641395917184\n"
     ]
    }
   ],
   "source": [
    "# Tuning Bernoulli Naive Bayes Classifier\n",
    "params = {\n",
    "    'alpha': [0, 0.25, 0.5, 0.75, 1],\n",
    "    'binarize':[None, 0.0, 0.5, 1.0],\n",
    "    'fit_prior':[True, False],\n",
    "}\n",
    "\n",
    "clf = GridSearchCV(BernoulliNB(), params, n_jobs=-1, scoring='f1')\n",
    "\n",
    "with warnings.catch_warnings() as w:\n",
    "    warnings.simplefilter(\"ignore\")\n",
    "    clf.fit(matrix_best, y_binary)\n",
    "\n",
    "print(\"Best paramters for Bernoulli Naive Bayes:\", clf.best_params_)\n",
    "print(\"Best score for Bernoulli Naive Bayes:\", clf.best_score_)"
   ]
  },
  {
   "cell_type": "code",
   "execution_count": 266,
   "id": "ed059b5a",
   "metadata": {
    "scrolled": true
   },
   "outputs": [
    {
     "data": {
      "text/html": [
       "<style type=\"text/css\">\n",
       "#T_f368e_row0_col0 {\n",
       "  background-color: #be1827;\n",
       "  color: #f1f1f1;\n",
       "}\n",
       "#T_f368e_row0_col1 {\n",
       "  background-color: #bde379;\n",
       "  color: #000000;\n",
       "}\n",
       "#T_f368e_row0_col2, #T_f368e_row0_col3, #T_f368e_row1_col0, #T_f368e_row1_col1, #T_f368e_row1_col2, #T_f368e_row1_col4, #T_f368e_row1_col5 {\n",
       "  background-color: #006837;\n",
       "  color: #f1f1f1;\n",
       "}\n",
       "#T_f368e_row0_col4 {\n",
       "  background-color: #fbfdba;\n",
       "  color: #000000;\n",
       "}\n",
       "#T_f368e_row0_col5 {\n",
       "  background-color: #1e9a51;\n",
       "  color: #f1f1f1;\n",
       "}\n",
       "#T_f368e_row1_col3 {\n",
       "  background-color: #fdc574;\n",
       "  color: #000000;\n",
       "}\n",
       "#T_f368e_row2_col0, #T_f368e_row2_col1, #T_f368e_row2_col2, #T_f368e_row2_col3, #T_f368e_row2_col4, #T_f368e_row2_col5 {\n",
       "  background-color: #a50026;\n",
       "  color: #f1f1f1;\n",
       "}\n",
       "</style>\n",
       "<table id=\"T_f368e_\">\n",
       "  <thead>\n",
       "    <tr>\n",
       "      <th class=\"blank level0\" >&nbsp;</th>\n",
       "      <th class=\"col_heading level0 col0\" >fit_time</th>\n",
       "      <th class=\"col_heading level0 col1\" >score_time</th>\n",
       "      <th class=\"col_heading level0 col2\" >test_accuracy</th>\n",
       "      <th class=\"col_heading level0 col3\" >test_precision</th>\n",
       "      <th class=\"col_heading level0 col4\" >test_recall</th>\n",
       "      <th class=\"col_heading level0 col5\" >test_f1</th>\n",
       "    </tr>\n",
       "  </thead>\n",
       "  <tbody>\n",
       "    <tr>\n",
       "      <th id=\"T_f368e_level0_row0\" class=\"row_heading level0 row0\" >Logit</th>\n",
       "      <td id=\"T_f368e_row0_col0\" class=\"data row0 col0\" >0.032959</td>\n",
       "      <td id=\"T_f368e_row0_col1\" class=\"data row0 col1\" >0.003124</td>\n",
       "      <td id=\"T_f368e_row0_col2\" class=\"data row0 col2\" >0.914505</td>\n",
       "      <td id=\"T_f368e_row0_col3\" class=\"data row0 col3\" >0.925636</td>\n",
       "      <td id=\"T_f368e_row0_col4\" class=\"data row0 col4\" >0.952381</td>\n",
       "      <td id=\"T_f368e_row0_col5\" class=\"data row0 col5\" >0.937973</td>\n",
       "    </tr>\n",
       "    <tr>\n",
       "      <th id=\"T_f368e_level0_row1\" class=\"row_heading level0 row1\" >RFC</th>\n",
       "      <td id=\"T_f368e_row1_col0\" class=\"data row1 col0\" >0.478913</td>\n",
       "      <td id=\"T_f368e_row1_col1\" class=\"data row1 col1\" >0.004764</td>\n",
       "      <td id=\"T_f368e_row1_col2\" class=\"data row1 col2\" >0.914439</td>\n",
       "      <td id=\"T_f368e_row1_col3\" class=\"data row1 col3\" >0.912468</td>\n",
       "      <td id=\"T_f368e_row1_col4\" class=\"data row1 col4\" >0.974665</td>\n",
       "      <td id=\"T_f368e_row1_col5\" class=\"data row1 col5\" >0.940765</td>\n",
       "    </tr>\n",
       "    <tr>\n",
       "      <th id=\"T_f368e_level0_row2\" class=\"row_heading level0 row2\" >BNB</th>\n",
       "      <td id=\"T_f368e_row2_col0\" class=\"data row2 col0\" >0.007806</td>\n",
       "      <td id=\"T_f368e_row2_col1\" class=\"data row2 col1\" >0.000000</td>\n",
       "      <td id=\"T_f368e_row2_col2\" class=\"data row2 col2\" >0.879583</td>\n",
       "      <td id=\"T_f368e_row2_col3\" class=\"data row2 col3\" >0.905453</td>\n",
       "      <td id=\"T_f368e_row2_col4\" class=\"data row2 col4\" >0.929066</td>\n",
       "      <td id=\"T_f368e_row2_col5\" class=\"data row2 col5\" >0.914510</td>\n",
       "    </tr>\n",
       "  </tbody>\n",
       "</table>\n"
      ],
      "text/plain": [
       "<pandas.io.formats.style.Styler at 0x18667c42040>"
      ]
     },
     "execution_count": 266,
     "metadata": {},
     "output_type": "execute_result"
    }
   ],
   "source": [
    "# Compare results using different classifiers (with tuning)\n",
    "classifiers = {\n",
    "    'Logit':LogisticRegression(max_iter= 2000, penalty= 'l1', solver= 'liblinear', verbose= 0, warm_start= False),\n",
    "    'RFC':RandomForestClassifier(criterion= 'gini', max_depth= 100, n_estimators= 100, verbose= 0, warm_start= True),\n",
    "    'BNB': BernoulliNB(alpha= 1.0e-10, binarize= 0.0, fit_prior= False),\n",
    "}\n",
    "\n",
    "scores = {} \n",
    "for classifier in classifiers:\n",
    "    scores[classifier] = cross_validate(\n",
    "        classifiers[classifier],\n",
    "        matrix_best, \n",
    "        y_binary, \n",
    "        cv=10, \n",
    "        scoring=['accuracy','precision', 'recall', 'f1']\n",
    "    )\n",
    "compare_scores(scores)"
   ]
  },
  {
   "cell_type": "markdown",
   "id": "d1801dfe",
   "metadata": {},
   "source": [
    "After tuning the parameters of the best performing classifiers, we get two high F-1 scores by the Logistic Regression classifier (0.937) and by the Random Forest Classifier (0.940)"
   ]
  },
  {
   "cell_type": "markdown",
   "id": "d4dff449",
   "metadata": {},
   "source": [
    "Below we attempt try the f_classif selector method instead of the mutual_info_classif selector method when selecting our most informative features."
   ]
  },
  {
   "cell_type": "code",
   "execution_count": 265,
   "id": "9060b7df",
   "metadata": {
    "scrolled": false
   },
   "outputs": [
    {
     "data": {
      "text/html": [
       "<style type=\"text/css\">\n",
       "#T_738b8_row0_col0 {\n",
       "  background-color: #c41e27;\n",
       "  color: #f1f1f1;\n",
       "}\n",
       "#T_738b8_row0_col1, #T_738b8_row1_col3, #T_738b8_row2_col0, #T_738b8_row2_col2, #T_738b8_row2_col3, #T_738b8_row2_col4, #T_738b8_row2_col5 {\n",
       "  background-color: #a50026;\n",
       "  color: #f1f1f1;\n",
       "}\n",
       "#T_738b8_row0_col2, #T_738b8_row0_col3, #T_738b8_row0_col5, #T_738b8_row1_col0, #T_738b8_row1_col1, #T_738b8_row1_col4 {\n",
       "  background-color: #006837;\n",
       "  color: #f1f1f1;\n",
       "}\n",
       "#T_738b8_row0_col4 {\n",
       "  background-color: #fbfdba;\n",
       "  color: #000000;\n",
       "}\n",
       "#T_738b8_row1_col2 {\n",
       "  background-color: #36a657;\n",
       "  color: #f1f1f1;\n",
       "}\n",
       "#T_738b8_row1_col5 {\n",
       "  background-color: #016a38;\n",
       "  color: #f1f1f1;\n",
       "}\n",
       "#T_738b8_row2_col1 {\n",
       "  background-color: #f57547;\n",
       "  color: #f1f1f1;\n",
       "}\n",
       "</style>\n",
       "<table id=\"T_738b8_\">\n",
       "  <thead>\n",
       "    <tr>\n",
       "      <th class=\"blank level0\" >&nbsp;</th>\n",
       "      <th class=\"col_heading level0 col0\" >fit_time</th>\n",
       "      <th class=\"col_heading level0 col1\" >score_time</th>\n",
       "      <th class=\"col_heading level0 col2\" >test_accuracy</th>\n",
       "      <th class=\"col_heading level0 col3\" >test_precision</th>\n",
       "      <th class=\"col_heading level0 col4\" >test_recall</th>\n",
       "      <th class=\"col_heading level0 col5\" >test_f1</th>\n",
       "    </tr>\n",
       "  </thead>\n",
       "  <tbody>\n",
       "    <tr>\n",
       "      <th id=\"T_738b8_level0_row0\" class=\"row_heading level0 row0\" >Logit</th>\n",
       "      <td id=\"T_738b8_row0_col0\" class=\"data row0 col0\" >0.038296</td>\n",
       "      <td id=\"T_738b8_row0_col1\" class=\"data row0 col1\" >0.000600</td>\n",
       "      <td id=\"T_738b8_row0_col2\" class=\"data row0 col2\" >0.914505</td>\n",
       "      <td id=\"T_738b8_row0_col3\" class=\"data row0 col3\" >0.924743</td>\n",
       "      <td id=\"T_738b8_row0_col4\" class=\"data row0 col4\" >0.953401</td>\n",
       "      <td id=\"T_738b8_row0_col5\" class=\"data row0 col5\" >0.938046</td>\n",
       "    </tr>\n",
       "    <tr>\n",
       "      <th id=\"T_738b8_level0_row1\" class=\"row_heading level0 row1\" >RFC</th>\n",
       "      <td id=\"T_738b8_row1_col0\" class=\"data row1 col0\" >0.477136</td>\n",
       "      <td id=\"T_738b8_row1_col1\" class=\"data row1 col1\" >0.008590</td>\n",
       "      <td id=\"T_738b8_row1_col2\" class=\"data row1 col2\" >0.909640</td>\n",
       "      <td id=\"T_738b8_row1_col3\" class=\"data row1 col3\" >0.905380</td>\n",
       "      <td id=\"T_738b8_row1_col4\" class=\"data row1 col4\" >0.976675</td>\n",
       "      <td id=\"T_738b8_row1_col5\" class=\"data row1 col5\" >0.937869</td>\n",
       "    </tr>\n",
       "    <tr>\n",
       "      <th id=\"T_738b8_level0_row2\" class=\"row_heading level0 row2\" >BNB</th>\n",
       "      <td id=\"T_738b8_row2_col0\" class=\"data row2 col0\" >0.007603</td>\n",
       "      <td id=\"T_738b8_row2_col1\" class=\"data row2 col1\" >0.002300</td>\n",
       "      <td id=\"T_738b8_row2_col2\" class=\"data row2 col2\" >0.879583</td>\n",
       "      <td id=\"T_738b8_row2_col3\" class=\"data row2 col3\" >0.905453</td>\n",
       "      <td id=\"T_738b8_row2_col4\" class=\"data row2 col4\" >0.929066</td>\n",
       "      <td id=\"T_738b8_row2_col5\" class=\"data row2 col5\" >0.914510</td>\n",
       "    </tr>\n",
       "  </tbody>\n",
       "</table>\n"
      ],
      "text/plain": [
       "<pandas.io.formats.style.Styler at 0x186ee38cca0>"
      ]
     },
     "execution_count": 265,
     "metadata": {},
     "output_type": "execute_result"
    }
   ],
   "source": [
    "# Trying alternative selector method\n",
    "\n",
    "method = f_classif\n",
    "selector = SelectKBest(method, k=300)\n",
    "matrix_best = selector.fit_transform(matrix, y_binary)\n",
    "\n",
    "scores = {} \n",
    "for classifier in classifiers:\n",
    "    scores[classifier] = cross_validate(\n",
    "        classifiers[classifier],\n",
    "        matrix_best, \n",
    "        y_binary, \n",
    "        cv=10, \n",
    "        scoring=['accuracy','precision', 'recall', 'f1']\n",
    "    )\n",
    "compare_scores(scores)"
   ]
  },
  {
   "cell_type": "markdown",
   "id": "10e5bffb",
   "metadata": {},
   "source": [
    "As evident from the scores seen above, the selector method does not make much of a difference to our overall evaluation scores"
   ]
  },
  {
   "cell_type": "markdown",
   "id": "2459dd2f",
   "metadata": {},
   "source": [
    "#### Word-embedding Classifier"
   ]
  },
  {
   "cell_type": "markdown",
   "id": "b0920970",
   "metadata": {},
   "source": [
    "The word-embedding classifier conducted below required us to shorten the data we used as an input to the spacy vectorizer. This is because we were experiencing run times of over 6+ hours if we tried to use majority of the corpus."
   ]
  },
  {
   "cell_type": "code",
   "execution_count": 194,
   "id": "7d46213c",
   "metadata": {},
   "outputs": [],
   "source": [
    "# Load spacy library\n",
    "nlp = spacy.load(\"en_core_web_lg\")"
   ]
  },
  {
   "cell_type": "code",
   "execution_count": 195,
   "id": "41c4ebac",
   "metadata": {},
   "outputs": [],
   "source": [
    "# Choosing novels with less word count due to computational feasability\n",
    "\n",
    "indexes = [index for index in metadata.index.values if metadata.loc[index]['words'] < 40000]\n",
    "novels_em = metadata.loc[indexes]"
   ]
  },
  {
   "cell_type": "code",
   "execution_count": 196,
   "id": "f6280c8f",
   "metadata": {},
   "outputs": [],
   "source": [
    "# Creating golden labels\n",
    "y_binary_em = [1 if date > 1850 else 0 for date in novels_em['pub_date']]"
   ]
  },
  {
   "cell_type": "code",
   "execution_count": 197,
   "id": "0b555d5e",
   "metadata": {},
   "outputs": [],
   "source": [
    "# Read files without tokenizing\n",
    "files_em = [os.path.join(text_dir, novel) for novel in novels_em.index.values]\n",
    "docs_em = []\n",
    "for file in files_em:\n",
    "    with open(file, 'r', encoding='utf8') as f:\n",
    "        text = f.read()\n",
    "        docs_em.append(text)"
   ]
  },
  {
   "cell_type": "code",
   "execution_count": 198,
   "id": "891fd596",
   "metadata": {},
   "outputs": [],
   "source": [
    "# Create function to get the mean of the word embedding vectors\n",
    "def get_doc_embedding (text, nlp):\n",
    "    doc = nlp(text)\n",
    "    doc = [token for token in doc if not (token.is_stop or token.is_punct) and token.has_vector]\n",
    "    word_emb = np.mean([token.vector for token in doc], axis=0)\n",
    "    return word_emb"
   ]
  },
  {
   "cell_type": "code",
   "execution_count": 199,
   "id": "c483a0c2",
   "metadata": {
    "scrolled": true
   },
   "outputs": [
    {
     "name": "stdout",
     "output_type": "stream",
     "text": [
      "Shape of resulting matrix: (293, 300)\n",
      "Wall time: 57min 20s\n"
     ]
    }
   ],
   "source": [
    "%%time\n",
    "# Create word embedding matrix\n",
    "matrix_embedding = np.asarray([get_doc_embedding(novel, nlp) for novel in docs_em])\n",
    "print(\"Shape of resulting matrix:\", matrix_embedding.shape)"
   ]
  },
  {
   "cell_type": "code",
   "execution_count": 200,
   "id": "c3d0d8e5",
   "metadata": {},
   "outputs": [],
   "source": [
    "# Standardize matrix\n",
    "matrix_embedding = StandardScaler().fit_transform(matrix_embedding)"
   ]
  },
  {
   "cell_type": "code",
   "execution_count": 201,
   "id": "4994efd0",
   "metadata": {
    "scrolled": true
   },
   "outputs": [
    {
     "name": "stdout",
     "output_type": "stream",
     "text": [
      "Cross-validated accuracy 0.8325287356321841\n",
      "Cross-validated F-1 0.8865272913962589\n"
     ]
    }
   ],
   "source": [
    "# Calculate accuracy and F-1 Score\n",
    "print(\"Cross-validated accuracy\", np.mean(cross_val_score(LogisticRegression(), matrix_embedding, y_binary_em, scoring='accuracy', cv=10)))\n",
    "print(\"Cross-validated F-1\", np.mean(cross_val_score(LogisticRegression(), matrix_embedding, y_binary_em, scoring='f1', cv=10)))"
   ]
  },
  {
   "cell_type": "markdown",
   "id": "c1e360cb",
   "metadata": {},
   "source": [
    "The accuracy and F-1 scores are not as high as we had for our token-based classifier. This again is most likely because we were able to feed majority of the corpus to our token-based classifiers while we had to be selective about our data when running the word based classifier."
   ]
  },
  {
   "cell_type": "markdown",
   "id": "3ca1ba32",
   "metadata": {},
   "source": [
    "### Large Neural Networks\n",
    "\n",
    "Another method of testing our hypothesis would be to use large neural networks such as Multilayer Perceptron, Recurrent Neural Networks, Bert, etc. However, the issue with large neural networks is that they require large amounts of training data to get the best value out of their algorithms. Also, our classification methods returned high enough scores to make statisitcally significant conclusions about our results. Nevertheless, we attempt to run a Multilayer Perceptron to find the scores that are returned. The code is inspired by the Neural Methods code from Lecture 24. "
   ]
  },
  {
   "cell_type": "code",
   "execution_count": 202,
   "id": "3595dcec",
   "metadata": {},
   "outputs": [
    {
     "name": "stdout",
     "output_type": "stream",
     "text": [
      "MLP accuracy: 0.8457471264367816\n"
     ]
    }
   ],
   "source": [
    "mlpc = MLPClassifier()\n",
    "mlp_scores = cross_val_score(mlpc, matrix_embedding, y_binary_em, cv=10, n_jobs=-1)\n",
    "print(\"MLP accuracy:\", np.mean(mlp_scores))"
   ]
  },
  {
   "cell_type": "code",
   "execution_count": 203,
   "id": "ffd81e1a",
   "metadata": {},
   "outputs": [],
   "source": [
    "params = {\n",
    "    'hidden_layer_sizes': [(300,), (100,), (10,), (2,), (100,10), (30,10), (10,2)],\n",
    "    'solver':['adam', 'lbfgs'],\n",
    "    'max_iter':[2000] \n",
    "}\n",
    "clf = GridSearchCV(mlpc, params, n_jobs=-1)\n",
    "\n",
    "X_train, X_test, y_train, y_test = train_test_split(matrix_embedding, y_binary_em, train_size=100)\n",
    "\n",
    "with warnings.catch_warnings() as w:\n",
    "    warnings.simplefilter(\"ignore\")\n",
    "    clf.fit(X_train, y_train)"
   ]
  },
  {
   "cell_type": "code",
   "execution_count": 204,
   "id": "a5146af2",
   "metadata": {},
   "outputs": [
    {
     "data": {
      "text/plain": [
       "{'hidden_layer_sizes': (10,), 'max_iter': 2000, 'solver': 'adam'}"
      ]
     },
     "execution_count": 204,
     "metadata": {},
     "output_type": "execute_result"
    }
   ],
   "source": [
    "clf.best_params_"
   ]
  },
  {
   "cell_type": "code",
   "execution_count": 205,
   "id": "c5282278",
   "metadata": {},
   "outputs": [
    {
     "data": {
      "text/plain": [
       "0.85"
      ]
     },
     "execution_count": 205,
     "metadata": {},
     "output_type": "execute_result"
    }
   ],
   "source": [
    "clf.best_score_"
   ]
  },
  {
   "cell_type": "code",
   "execution_count": 206,
   "id": "2a2ee87c",
   "metadata": {
    "scrolled": true
   },
   "outputs": [
    {
     "name": "stderr",
     "output_type": "stream",
     "text": [
      "[Parallel(n_jobs=-1)]: Using backend LokyBackend with 16 concurrent workers.\n"
     ]
    },
    {
     "name": "stdout",
     "output_type": "stream",
     "text": [
      "MLP accuracy (tuned): 0.8426436781609196\n"
     ]
    },
    {
     "name": "stderr",
     "output_type": "stream",
     "text": [
      "[Parallel(n_jobs=-1)]: Done  10 out of  10 | elapsed:    0.1s finished\n"
     ]
    }
   ],
   "source": [
    "mlp_tuned_scores = cross_val_score(\n",
    "    MLPClassifier(**clf.best_params_), \n",
    "    matrix_embedding, \n",
    "    y_binary_em, \n",
    "    cv=10,\n",
    "    n_jobs=-1,\n",
    "    verbose=1\n",
    ")\n",
    "print(\"MLP accuracy (tuned):\", np.mean(mlp_tuned_scores))\n"
   ]
  },
  {
   "cell_type": "markdown",
   "id": "19db2f09",
   "metadata": {},
   "source": [
    "As aforementioned, the scores of the embedding-based matrices suffer because of the limited computational power we had when running this analysis. "
   ]
  },
  {
   "cell_type": "code",
   "execution_count": 207,
   "id": "3dbb3ffa",
   "metadata": {},
   "outputs": [
    {
     "name": "stderr",
     "output_type": "stream",
     "text": [
      "[Parallel(n_jobs=-1)]: Using backend LokyBackend with 16 concurrent workers.\n"
     ]
    },
    {
     "name": "stdout",
     "output_type": "stream",
     "text": [
      "MLP accuracy (using tokens): 0.9165175659304818\n"
     ]
    },
    {
     "name": "stderr",
     "output_type": "stream",
     "text": [
      "[Parallel(n_jobs=-1)]: Done  10 out of  10 | elapsed:    1.4s finished\n"
     ]
    }
   ],
   "source": [
    "selector = SelectKBest(f_classif, k=300)\n",
    "X_tfidf_selected = selector.fit_transform(matrix, y_binary)\n",
    "\n",
    "mlp_tfidf_scores = cross_val_score(\n",
    "    mlpc, \n",
    "    X_tfidf_selected, \n",
    "    y_binary, \n",
    "    cv=10, \n",
    "    n_jobs=-1,\n",
    "    verbose=1\n",
    ")\n",
    "print(\"MLP accuracy (using tokens):\", np.mean(mlp_tfidf_scores))"
   ]
  },
  {
   "cell_type": "markdown",
   "id": "8d393b4e",
   "metadata": {},
   "source": [
    "The token-based scores for the Multi Layer Perceptron is higher with a token-based vectorizer instead of the embedding based vectorizer. Nevertheless, we get a decently high score, but still lower than the token-based classifications shown before"
   ]
  },
  {
   "cell_type": "markdown",
   "id": "35643e76",
   "metadata": {},
   "source": [
    "### Findings, Discussion, and Limitations"
   ]
  },
  {
   "cell_type": "markdown",
   "id": "64abd208",
   "metadata": {},
   "source": [
    "The project ran multiple methods to test the given hypothesis: **American literature started to become unique and original after 1850 unlike the novels inspired by Europeans in previous years**. The assumption made for the analysis was that a change would be identified in the novels after 1850 given how they lost their European influence over the years. In the following discussion, we output our best results and discuss what they mean in the context of our hypothesis."
   ]
  },
  {
   "cell_type": "markdown",
   "id": "72a6abb8",
   "metadata": {},
   "source": [
    "We first ran a basic cosine/euclidean distance analysis which outputed the following result."
   ]
  },
  {
   "cell_type": "code",
   "execution_count": 267,
   "id": "d9ea76fe",
   "metadata": {},
   "outputs": [
    {
     "name": "stdout",
     "output_type": "stream",
     "text": [
      "Distances between novels before 1850 and after 1850\n",
      "\n",
      "Average Euclidean Distance: 1.320215357340634\n",
      "\n",
      "Average Cosine Distance: 0.8723299310173114\n"
     ]
    }
   ],
   "source": [
    "print(\"Distances between novels before 1850 and after 1850\")\n",
    "print()\n",
    "print(\"Average Euclidean Distance:\", np.mean(euclidean_distances(matrix_bf, matrix_af)))\n",
    "print()\n",
    "print(\"Average Cosine Distance:\", np.mean(cosine_distances(matrix_bf, matrix_af)))"
   ]
  },
  {
   "cell_type": "markdown",
   "id": "1e81b0fe",
   "metadata": {},
   "source": [
    "The average euclidean and cosine distances between the novels before 1850 and after 1850 were higher than the distances among these two set of corpuses. Although this does not give us significant evidence to support the hypothesis, it gave us affirmation that we were in the right direction."
   ]
  },
  {
   "cell_type": "markdown",
   "id": "a4bd3e15",
   "metadata": {},
   "source": [
    "The main portion of the analysis was surrounded around the token-based classification methods. After testing mulitple classifiers and any associated hyperparameters, we were able to achieve high accuracy and evaluation scores for the supervised learning model."
   ]
  },
  {
   "cell_type": "code",
   "execution_count": 268,
   "id": "996b9c6f",
   "metadata": {
    "scrolled": true
   },
   "outputs": [
    {
     "data": {
      "text/html": [
       "<style type=\"text/css\">\n",
       "#T_0802e_row0_col0 {\n",
       "  background-color: #c41e27;\n",
       "  color: #f1f1f1;\n",
       "}\n",
       "#T_0802e_row0_col1, #T_0802e_row2_col0, #T_0802e_row2_col2, #T_0802e_row2_col3, #T_0802e_row2_col4, #T_0802e_row2_col5 {\n",
       "  background-color: #a50026;\n",
       "  color: #f1f1f1;\n",
       "}\n",
       "#T_0802e_row0_col2, #T_0802e_row0_col3, #T_0802e_row1_col0, #T_0802e_row1_col1, #T_0802e_row1_col4, #T_0802e_row1_col5 {\n",
       "  background-color: #006837;\n",
       "  color: #f1f1f1;\n",
       "}\n",
       "#T_0802e_row0_col4 {\n",
       "  background-color: #fffcba;\n",
       "  color: #000000;\n",
       "}\n",
       "#T_0802e_row0_col5 {\n",
       "  background-color: #0a7b41;\n",
       "  color: #f1f1f1;\n",
       "}\n",
       "#T_0802e_row1_col2 {\n",
       "  background-color: #199750;\n",
       "  color: #f1f1f1;\n",
       "}\n",
       "#T_0802e_row1_col3 {\n",
       "  background-color: #cc2627;\n",
       "  color: #f1f1f1;\n",
       "}\n",
       "#T_0802e_row2_col1 {\n",
       "  background-color: #fa9857;\n",
       "  color: #000000;\n",
       "}\n",
       "</style>\n",
       "<table id=\"T_0802e_\">\n",
       "  <thead>\n",
       "    <tr>\n",
       "      <th class=\"blank level0\" >&nbsp;</th>\n",
       "      <th class=\"col_heading level0 col0\" >fit_time</th>\n",
       "      <th class=\"col_heading level0 col1\" >score_time</th>\n",
       "      <th class=\"col_heading level0 col2\" >test_accuracy</th>\n",
       "      <th class=\"col_heading level0 col3\" >test_precision</th>\n",
       "      <th class=\"col_heading level0 col4\" >test_recall</th>\n",
       "      <th class=\"col_heading level0 col5\" >test_f1</th>\n",
       "    </tr>\n",
       "  </thead>\n",
       "  <tbody>\n",
       "    <tr>\n",
       "      <th id=\"T_0802e_level0_row0\" class=\"row_heading level0 row0\" >Logit</th>\n",
       "      <td id=\"T_0802e_row0_col0\" class=\"data row0 col0\" >0.034758</td>\n",
       "      <td id=\"T_0802e_row0_col1\" class=\"data row0 col1\" >0.000539</td>\n",
       "      <td id=\"T_0802e_row0_col2\" class=\"data row0 col2\" >0.915190</td>\n",
       "      <td id=\"T_0802e_row0_col3\" class=\"data row0 col3\" >0.925719</td>\n",
       "      <td id=\"T_0802e_row0_col4\" class=\"data row0 col4\" >0.953401</td>\n",
       "      <td id=\"T_0802e_row0_col5\" class=\"data row0 col5\" >0.938517</td>\n",
       "    </tr>\n",
       "    <tr>\n",
       "      <th id=\"T_0802e_level0_row1\" class=\"row_heading level0 row1\" >RFC</th>\n",
       "      <td id=\"T_0802e_row1_col0\" class=\"data row1 col0\" >0.467807</td>\n",
       "      <td id=\"T_0802e_row1_col1\" class=\"data row1 col1\" >0.010171</td>\n",
       "      <td id=\"T_0802e_row1_col2\" class=\"data row1 col2\" >0.911695</td>\n",
       "      <td id=\"T_0802e_row1_col3\" class=\"data row1 col3\" >0.907104</td>\n",
       "      <td id=\"T_0802e_row1_col4\" class=\"data row1 col4\" >0.978716</td>\n",
       "      <td id=\"T_0802e_row1_col5\" class=\"data row1 col5\" >0.939572</td>\n",
       "    </tr>\n",
       "    <tr>\n",
       "      <th id=\"T_0802e_level0_row2\" class=\"row_heading level0 row2\" >BNB</th>\n",
       "      <td id=\"T_0802e_row2_col0\" class=\"data row2 col0\" >0.004682</td>\n",
       "      <td id=\"T_0802e_row2_col1\" class=\"data row2 col1\" >0.003125</td>\n",
       "      <td id=\"T_0802e_row2_col2\" class=\"data row2 col2\" >0.879583</td>\n",
       "      <td id=\"T_0802e_row2_col3\" class=\"data row2 col3\" >0.905453</td>\n",
       "      <td id=\"T_0802e_row2_col4\" class=\"data row2 col4\" >0.929066</td>\n",
       "      <td id=\"T_0802e_row2_col5\" class=\"data row2 col5\" >0.914510</td>\n",
       "    </tr>\n",
       "  </tbody>\n",
       "</table>\n"
      ],
      "text/plain": [
       "<pandas.io.formats.style.Styler at 0x18664532070>"
      ]
     },
     "execution_count": 268,
     "metadata": {},
     "output_type": "execute_result"
    }
   ],
   "source": [
    "classifiers = {\n",
    "    'Logit':LogisticRegression(max_iter= 2000, penalty= 'l1', solver= 'liblinear', verbose= 0, warm_start= False),\n",
    "    'RFC':RandomForestClassifier(criterion= 'gini', max_depth= 100, n_estimators= 100, verbose= 0, warm_start= True),\n",
    "    'BNB': BernoulliNB(alpha= 1.0e-10, binarize= 0.0, fit_prior= False),\n",
    "}\n",
    "\n",
    "scores = {} \n",
    "for classifier in classifiers:\n",
    "    scores[classifier] = cross_validate(\n",
    "        classifiers[classifier],\n",
    "        matrix_best, \n",
    "        y_binary, \n",
    "        cv=10, \n",
    "        scoring=['accuracy','precision', 'recall', 'f1']\n",
    "    )\n",
    "compare_scores(scores)"
   ]
  },
  {
   "cell_type": "markdown",
   "id": "0a99db08",
   "metadata": {},
   "source": [
    "As seen in the given output, the token-based classifer was able to identify whether a novel was published before 1850 or 1850 based on top 300 most informative textual features. The high Logistic Regression and Random Forest scores definetly suggest that there was in fact a difference between the novels before 1850 and after 1850 that is identifiable through the textual information. It would be interesting to further fine-tine such supervised learning methods to achieve an even higher score based on other factors (such as the topics that made American literature unique in the 1850s).\n",
    "\n",
    "We did attempt to use more sophisticated supervised learning models which included a word embedding-based classification as well as a Multi Layer Perceptron. However, because of the computational limitations, we were not able to make the best out of these models when analyzing American literature in the 19th century. Nevertheless, it does not undermine the results we got from our token-based classification methods.\n",
    "\n",
    "Before giving our final conclusion, it is important to indicate the limitations faced in this analysis. Firstly, it was difficult to determine what made American literature unique in the 1850s. There were indications of sub-topics and idealogies that started to get introduced in the 1850s, but it was difficult to discover the features that would represent those sub-topics and/or ideologies. \n",
    "\n",
    "Moreover, the corpus provided consisted only of American literature. Based on the discussion at the beginning of the analysis, before the 1850s most of American literature was inspired by European literature. The analysis could have been more comprehensive and accurate if we had sufficient enough textual data of the European novels during that era. \n",
    "\n",
    "Lastly, the large sizes of the novels during that period limited us from using word embedding adequetly. Even though we did get significant enough results to come to a conclusion, it would have been interesting to see other supervised learning methods performed using word-embeddings rather than tokens as it is quite understandable that embeddings would incorporate the context of the text."
   ]
  },
  {
   "cell_type": "markdown",
   "id": "8bb7a1bf",
   "metadata": {},
   "source": [
    "### Conclusion"
   ]
  },
  {
   "cell_type": "markdown",
   "id": "42dac60f",
   "metadata": {},
   "source": [
    "To summarize the conclusion we draw from our findings, we believe that there was a significant difference between the novels before and after 1850 which most certainly supports the fact that authors in American began to incorporate uniqueness and originality in their writings after 1850, unlike before."
   ]
  },
  {
   "cell_type": "markdown",
   "id": "979bb9b3",
   "metadata": {},
   "source": [
    "## References\n",
    "\n",
    "- Herschel Parker, in _Norton Anothology of American Literature_, 2nd ed., Baym et al., eds., vol. 1, 1985, pp. 691-708\n",
    "- Fiorelli, Edward Alfred (1980). Literary Nationalism in the Works of John Neal (1793-1876) (PhD). Fordham University. Abstract.\n",
    "- Howard Mumford Jones, American Literature Vol. 7, No. 3 (Nov., 1935), pp. 241-273 (33 pages)"
   ]
  }
 ],
 "metadata": {
  "kernelspec": {
   "display_name": "Python 3 (ipykernel)",
   "language": "python",
   "name": "python3"
  },
  "language_info": {
   "codemirror_mode": {
    "name": "ipython",
    "version": 3
   },
   "file_extension": ".py",
   "mimetype": "text/x-python",
   "name": "python",
   "nbconvert_exporter": "python",
   "pygments_lexer": "ipython3",
   "version": "3.9.7"
  }
 },
 "nbformat": 4,
 "nbformat_minor": 5
}
